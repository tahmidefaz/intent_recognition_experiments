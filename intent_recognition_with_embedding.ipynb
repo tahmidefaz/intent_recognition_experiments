{
  "nbformat": 4,
  "nbformat_minor": 0,
  "metadata": {
    "colab": {
      "provenance": []
    },
    "kernelspec": {
      "name": "python3",
      "display_name": "Python 3"
    },
    "language_info": {
      "name": "python"
    }
  },
  "cells": [
    {
      "cell_type": "code",
      "execution_count": null,
      "metadata": {
        "cellView": "form",
        "id": "UskFc1HuUhG0"
      },
      "outputs": [],
      "source": [
        "#@title Install Dependencies\n",
        "\n",
        "!pip install sentence-transformers\n",
        "!pip install torch"
      ]
    },
    {
      "cell_type": "code",
      "source": [
        "#@title Load Embedding Model\n",
        "from sentence_transformers import SentenceTransformer, util\n",
        "\n",
        "model = SentenceTransformer(\"Snowflake/snowflake-arctic-embed-m\")"
      ],
      "metadata": {
        "cellView": "form",
        "id": "DvKbUeDknQy1"
      },
      "execution_count": null,
      "outputs": []
    },
    {
      "cell_type": "code",
      "source": [
        "#@title Upload Intents and Examples CSV\n",
        "from google.colab import files\n",
        "import csv\n",
        "\n",
        "uploaded = files.upload()\n",
        "\n",
        "for filename in uploaded.keys():\n",
        "  print(f\"Uploaded: {filename}\")\n",
        "\n",
        "def read_csv(filename):\n",
        "  intents = []\n",
        "  examples = []\n",
        "\n",
        "  with open(filename, \"r\", newline=\"\") as csvfile:\n",
        "    reader = csv.DictReader(csvfile)\n",
        "    for row in reader:\n",
        "      intents.append(row[\"intent\"])\n",
        "      examples.append(row[\"example\"])\n",
        "\n",
        "  return intents, examples\n",
        "\n",
        "intent_values, example_values = read_csv(\"output.csv\")\n",
        "print(example_values)"
      ],
      "metadata": {
        "cellView": "form",
        "id": "R_T1D9wyUuNz"
      },
      "execution_count": null,
      "outputs": []
    },
    {
      "cell_type": "code",
      "source": [
        "#@title Generate Embeddings from Examples\n",
        "\n",
        "examples_embeddings = model.encode(example_values, convert_to_tensor=True)"
      ],
      "metadata": {
        "cellView": "form",
        "id": "g6dl55nONiW1"
      },
      "execution_count": 8,
      "outputs": []
    },
    {
      "cell_type": "code",
      "source": [
        "#@title Determine Intent from Query\n",
        "\n",
        "query = \"I want to enable 2 factro for my account\" # @param {type:\"string\"}\n",
        "\n",
        "top_k = min(5, len(examples_embeddings))\n",
        "\n",
        "query_embedding = model.encode(query, convert_to_tensor=True)\n",
        "\n",
        "hits = util.semantic_search(query_embedding, examples_embeddings, top_k=5)\n",
        "hits = hits[0]\n",
        "\n",
        "print(\"Query:\", query)\n",
        "print(\"Top 5 similar examples:\")\n",
        "\n",
        "for hit in hits:\n",
        "    print(intent_values[hit['corpus_id']], example_values[hit['corpus_id']], \"(Score: {:.4f})\".format(hit['score']))\n"
      ],
      "metadata": {
        "colab": {
          "base_uri": "https://localhost:8080/"
        },
        "cellView": "form",
        "id": "q8jC20_oN3-X",
        "outputId": "032a12ce-e841-49e1-f6e3-19b3e458eed1"
      },
      "execution_count": 14,
      "outputs": [
        {
          "output_type": "stream",
          "name": "stdout",
          "text": [
            "Query: I want to enable 2 factro for my account\n",
            "Top 5 similar examples:\n",
            "intent_enable_2fa Enable 2FA (Score: 0.8144)\n",
            "intent_core_help I need to deploy (Score: 0.8122)\n",
            "intent_enable_2fa turn on 2fa (Score: 0.8118)\n",
            "intent_access_request Request access from my administrator (Score: 0.8088)\n",
            "intent_integration_setup can you help me setup integrations (Score: 0.8088)\n"
          ]
        }
      ]
    }
  ]
}